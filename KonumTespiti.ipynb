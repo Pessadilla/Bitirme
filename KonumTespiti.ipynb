{
 "cells": [
  {
   "cell_type": "code",
   "execution_count": 1,
   "id": "7f8be435",
   "metadata": {},
   "outputs": [],
   "source": [
    "#kütüphaneler\n",
    "import numpy as np\n",
    "from sympy import *\n",
    "from sympy.geometry import *\n",
    "import math\n",
    "import matplotlib.pyplot as plt\n",
    "import skfuzzy as fuzz\n",
    "import skfuzzy.membership as mf\n",
    "from skfuzzy import control as ctrl\n",
    "from scipy.optimize import least_squares"
   ]
  },
  {
   "cell_type": "code",
   "execution_count": 2,
   "id": "4265865a",
   "metadata": {},
   "outputs": [],
   "source": [
    "#Access Pointlerin koordinatları\n",
    "x1=0\n",
    "x2=9.5\n",
    "x3=5\n",
    "y1=0\n",
    "y2=5\n",
    "y3=8.5"
   ]
  },
  {
   "cell_type": "code",
   "execution_count": 3,
   "id": "1935b65c",
   "metadata": {},
   "outputs": [],
   "source": [
    "#RSSI aralığı\n",
    "x_rssi = np.arange(-120,0,1)"
   ]
  },
  {
   "cell_type": "code",
   "execution_count": 29,
   "id": "47cd3c2e",
   "metadata": {},
   "outputs": [],
   "source": [
    "#Ölçülen RSSI Değerleri\n",
    "rssi_input_1=-65\n",
    "rssi_input_2=-65\n",
    "rssi_input_3=-54"
   ]
  },
  {
   "cell_type": "code",
   "execution_count": 30,
   "id": "09f01fb6",
   "metadata": {},
   "outputs": [],
   "source": [
    "#Ölçülen RSSI değerine göre mesafeyi döndüren fonksiyon\n",
    "def distance_measure(rssi):\n",
    "    if -17 <= rssi <= 0:\n",
    "        distance = 0\n",
    "    elif -22 < rssi <= -17:\n",
    "        distance = 0.5\n",
    "    elif -26 <= rssi <= -22:\n",
    "        distance = 1\n",
    "    elif -30 < rssi <= -26:\n",
    "        distance = 1.5\n",
    "    elif -37 <= rssi <= -30:\n",
    "        distance = 2\n",
    "    elif -40 < rssi <= -37:\n",
    "        distance = 2.5\n",
    "    elif -45 <= rssi <= -40:\n",
    "        distance = 3\n",
    "    elif -48 < rssi <= -45:\n",
    "        distance = 3.5\n",
    "    elif -51 <= rssi <= -48:\n",
    "        distance = 4\n",
    "    elif -53 < rssi <= -51:\n",
    "        distance = 4.5\n",
    "    elif -57 <= rssi <= -53:\n",
    "        distance = 5\n",
    "    elif -61 < rssi <= -57:\n",
    "        distance = 5.5\n",
    "    elif -66 <= rssi <= -61:\n",
    "        distance = 6\n",
    "    elif -69 < rssi <= -66:\n",
    "        distance = 6.5\n",
    "    elif -73 <= rssi <= -69:\n",
    "        distance = 7\n",
    "    elif -76 < rssi <= -73:\n",
    "        distance = 7.5\n",
    "    elif -80 <= rssi <= -76:\n",
    "        distance = 8\n",
    "    elif -82 < rssi <= -80:\n",
    "        distance = 8.5\n",
    "    elif -85 <= rssi <= -82:\n",
    "        distance = 9\n",
    "    elif -89 < rssi <= -85:\n",
    "        distance = 9.5\n",
    "    elif -93 <= rssi <= -89:\n",
    "        distance = 10\n",
    "    elif -95 < rssi <= -93:\n",
    "        distance = 10.5\n",
    "    elif -99 <= rssi <= -95:\n",
    "        distance = 11\n",
    "    elif -103 < rssi <= -99:\n",
    "        distance = 11.5\n",
    "    elif -120 <= rssi <= -103:\n",
    "        distance = 12\n",
    "    return distance"
   ]
  },
  {
   "cell_type": "code",
   "execution_count": 31,
   "id": "a31ade0d",
   "metadata": {},
   "outputs": [
    {
     "name": "stdout",
     "output_type": "stream",
     "text": [
      "6\n",
      "6\n",
      "5\n"
     ]
    }
   ],
   "source": [
    "print (distance_measure(rssi_input_1))\n",
    "print (distance_measure(rssi_input_2))\n",
    "print (distance_measure(rssi_input_3))"
   ]
  },
  {
   "cell_type": "code",
   "execution_count": 32,
   "id": "bffaf1b9",
   "metadata": {},
   "outputs": [],
   "source": [
    "d1=distance_measure(rssi_input_1)\n",
    "d2=distance_measure(rssi_input_2)\n",
    "d3=distance_measure(rssi_input_3)"
   ]
  },
  {
   "cell_type": "code",
   "execution_count": 33,
   "id": "42ab6dd0",
   "metadata": {},
   "outputs": [],
   "source": [
    "circle1 = plt.Circle((x1, y1), d1, color='r', fill=0)\n",
    "circle2 = plt.Circle((x2, y2), d2, color='g', fill=0)\n",
    "circle3 = plt.Circle((x3, y3), d3, color='b', fill=0)"
   ]
  },
  {
   "cell_type": "code",
   "execution_count": 34,
   "id": "c6a68908",
   "metadata": {},
   "outputs": [
    {
     "data": {
      "text/plain": [
       "<matplotlib.patches.Circle at 0x2bb60f20a00>"
      ]
     },
     "execution_count": 34,
     "metadata": {},
     "output_type": "execute_result"
    },
    {
     "data": {
      "image/png": "[encoded data removed]",
      "text/plain": [
       "<Figure size 640x480 with 1 Axes>"
      ]
     },
     "metadata": {},
     "output_type": "display_data"
    }
   ],
   "source": [
    "ax = plt.gca()\n",
    "ax.cla()\n",
    "ax.set_xlim((0, 10))\n",
    "ax.set_ylim((0, 10))\n",
    "ax.add_patch(circle1)\n",
    "ax.add_patch(circle2)\n",
    "ax.add_patch(circle3)"
   ]
  },
  {
   "cell_type": "code",
   "execution_count": 37,
   "id": "d23e3673",
   "metadata": {},
   "outputs": [],
   "source": [
    "#least squares ile varsa kesişim noktasını, yoksa kesişmeye en yakın noktayı buluyoruz\n",
    "def intersectionPoint(p1,p2,p3):\n",
    "\n",
    "    def eq(g):\n",
    "        x, y = g\n",
    "\n",
    "        return (\n",
    "            (x - x1)**2 + (y - y1)**2 - d1**2,\n",
    "            (x - x2)**2 + (y - y2)**2 - d2**2,\n",
    "            (x - x3)**2 + (y - y3)**2 - d3**2)\n",
    "\n",
    "    guess = (x1, y1 + d1)\n",
    "\n",
    "    ans = least_squares(eq, guess, ftol=None, xtol=None)\n",
    "\n",
    "    return ans\n",
    "\n",
    "ans = intersectionPoint((x1,y1,d1),(x2,y2,d2),(x3,y3,d3))"
   ]
  },
  {
   "cell_type": "code",
   "execution_count": 38,
   "id": "57050d4f",
   "metadata": {},
   "outputs": [
    {
     "name": "stdout",
     "output_type": "stream",
     "text": [
      "Kesişim Noktası Koordinatları: [3.77181234 4.10049849]\n"
     ]
    }
   ],
   "source": [
    "print(\"Kesişim Noktası Koordinatları:\", ans.x)"
   ]
  },
  {
   "cell_type": "code",
   "execution_count": 1069,
   "id": "396eac2a",
   "metadata": {},
   "outputs": [],
   "source": [
    "#Koordinatları atadığımız matrisimizi tanımlayalım\n",
    "coordinates = np.array([ans.x])"
   ]
  },
  {
   "cell_type": "code",
   "execution_count": 1070,
   "id": "b3c7ff0f",
   "metadata": {},
   "outputs": [
    {
     "name": "stdout",
     "output_type": "stream",
     "text": [
      "[[7.76708162 8.49898472]]\n"
     ]
    }
   ],
   "source": [
    "print (coordinates)"
   ]
  },
  {
   "cell_type": "code",
   "execution_count": 1120,
   "id": "92fcb1f0",
   "metadata": {},
   "outputs": [],
   "source": [
    "# Yeni elemanı tanımlayıp matrise aktarıyoruz\n",
    "coordinates = np.append(coordinates, [ans.x], axis=0)"
   ]
  },
  {
   "cell_type": "code",
   "execution_count": 1121,
   "id": "a3993a56",
   "metadata": {},
   "outputs": [
    {
     "name": "stdout",
     "output_type": "stream",
     "text": [
      "[[7.76708162 8.49898472]\n",
      " [7.7129649  7.85713938]\n",
      " [7.41443319 8.15770192]\n",
      " [7.41443319 8.15770192]\n",
      " [8.04021866 8.21736015]\n",
      " [7.7129649  7.85713938]]\n"
     ]
    }
   ],
   "source": [
    "print (coordinates)"
   ]
  },
  {
   "cell_type": "code",
   "execution_count": 1060,
   "id": "823b6fe2",
   "metadata": {},
   "outputs": [],
   "source": [
    "#Matrisi silmek için:\n",
    "del coordinates"
   ]
  },
  {
   "cell_type": "markdown",
   "id": "8428b2e8",
   "metadata": {},
   "source": [
    "# Bulanık Mantık Yardımı ile Matrisimizin Ağırlıklı Ortalamasını Alıp Elde Ettiğimiz Sonucun Kesinliğini Arttıralım ve Hataları Ayıklayalım"
   ]
  },
  {
   "cell_type": "code",
   "execution_count": 1122,
   "id": "3cacbd43",
   "metadata": {},
   "outputs": [],
   "source": [
    "# X ve Y değerlerini ayrı ayrı normalize ediyoruz\n",
    "normalized_x = (coordinates[:, 0] - np.min(coordinates[:, 0])) / (np.max(coordinates[:, 0]) - np.min(coordinates[:, 0]))\n",
    "normalized_y = (coordinates[:, 1] - np.min(coordinates[:, 1])) / (np.max(coordinates[:, 1]) - np.min(coordinates[:, 1]))"
   ]
  },
  {
   "cell_type": "code",
   "execution_count": 1123,
   "id": "f309fc93",
   "metadata": {},
   "outputs": [],
   "source": [
    "# Bulanık kümeleri oluşturalım\n",
    "x_fuzzy = fuzz.trimf(normalized_x, [np.min(normalized_x), np.mean(normalized_x), np.max(normalized_x)])\n",
    "y_fuzzy = fuzz.trimf(normalized_y, [np.min(normalized_y), np.mean(normalized_y), np.max(normalized_y)])"
   ]
  },
  {
   "cell_type": "code",
   "execution_count": 1124,
   "id": "1bafa93a",
   "metadata": {},
   "outputs": [],
   "source": [
    "# X ve Y bulanık kümelerini birleştirerek tek bir koordinat değeri elde edelim\n",
    "combined_fuzzy = np.fmax(x_fuzzy, y_fuzzy)"
   ]
  },
  {
   "cell_type": "code",
   "execution_count": 1125,
   "id": "f72f740b",
   "metadata": {},
   "outputs": [],
   "source": [
    "# Yeni koordinat değerini hesaplalım\n",
    "combined_coordinate = np.sum(combined_fuzzy * coordinates, axis=0) / np.sum(combined_fuzzy)"
   ]
  },
  {
   "cell_type": "code",
   "execution_count": 1126,
   "id": "a085599b",
   "metadata": {},
   "outputs": [
    {
     "name": "stdout",
     "output_type": "stream",
     "text": [
      "Hesaplanan Koordinat Değeri: [7.67701608 8.12433791]\n"
     ]
    }
   ],
   "source": [
    "# Sonuç:\n",
    "print(\"Hesaplanan Koordinat Değeri:\", combined_coordinate)"
   ]
  },
  {
   "cell_type": "markdown",
   "id": "8a8f03c3",
   "metadata": {},
   "source": [
    "### Elde ettiğimiz sonuçları bulanık mantık kullanmadan elde ettiğimiz sonuçlar ile kıyaslayacak olursak rssi değerindeki sapmalar yüzünden konum tespitinde yaşanan bozulmaların azaldığını gözlemleyebiliriz."
   ]
  },
  {
   "cell_type": "code",
   "execution_count": null,
   "id": "f96f415e",
   "metadata": {},
   "outputs": [],
   "source": []
  }
 ],
 "metadata": {
  "kernelspec": {
   "display_name": "Python 3 (ipykernel)",
   "language": "python",
   "name": "python3"
  },
  "language_info": {
   "codemirror_mode": {
    "name": "ipython",
    "version": 3
   },
   "file_extension": ".py",
   "mimetype": "text/x-python",
   "name": "python",
   "nbconvert_exporter": "python",
   "pygments_lexer": "ipython3",
   "version": "3.10.9"
  }
 },
 "nbformat": 4,
 "nbformat_minor": 5
}
